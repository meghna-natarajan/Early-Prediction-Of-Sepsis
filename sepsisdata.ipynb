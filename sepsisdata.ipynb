{
 "cells": [
  {
   "cell_type": "code",
   "execution_count": 1,
   "metadata": {},
   "outputs": [],
   "source": [
    "import glob\n",
    "import pandas as pd"
   ]
  },
  {
   "cell_type": "code",
   "execution_count": 2,
   "metadata": {},
   "outputs": [],
   "source": [
    "alldata = pd.read_csv('combined_new.csv')"
   ]
  },
  {
   "cell_type": "code",
   "execution_count": null,
   "metadata": {},
   "outputs": [],
   "source": [
    "def impute_missing(alldata):\n",
    "    columns = alldata.columns\n",
    "    index = alldata.index\n",
    "    missing = SimpleImputer(missing_values='np.nan', strategy='mean')\n",
    "    missing.fit(alldata)\n",
    "    alldata= pd.DataFrame(missing.transform(alldata),columns=columns,index=index)\n",
    "    return alldata"
   ]
  },
  {
   "cell_type": "code",
   "execution_count": null,
   "metadata": {},
   "outputs": [],
   "source": [
    "def traintestSplit(alldata):\n",
    "    alldata=impute_missing(alldata)\n",
    "    Y=alldata[\"SepsisLabel\"].astype('int')\n",
    "    X=alldata.drop([\"SepsisLabel\", \"PatientID\"],axis=1)\n",
    "    X_train, X_test, Y_train, Y_test = train_test_split(X, Y, test_size=0.3, random_state=1)\n",
    "    X_train, X_val, Y_train, Y_val = train_test_split(X_train, Y_train, test_size=0.2, random_state=1)\n",
    "    print(\"Number of samples in train data: \" + str(len(X_train)))\n",
    "    print(\"Number of samples in validation data: \" + str(len(X_val)))\n",
    "    print(\"Number of samples in test data: \" + str(len(X_test)))\n",
    "    return X_train, X_val, X_test, Y_train, Y_val, Y_test"
   ]
  },
  {
   "cell_type": "code",
   "execution_count": null,
   "metadata": {},
   "outputs": [],
   "source": [
    "def groupAverageForNone(): \n",
    "    tdata = pd.DataFrame()\n",
    "    pdata = pd.DataFrame({\"PatientID\":[\"0\"]})\n",
    "    alldata=pd.read_csv(\"/training/output/combined.psv\",sep=\"|\")\n",
    "    alldata = alldata.drop(alldata.columns[[0]], axis=1)\n",
    "    attrcolumns = [\"HR\",\"O2Sat\",\"Temp\",\"SBP\",\"MAP\",\"DBP\",\"Resp\",\"EtCO2\",\"BaseExcess\",\"HCO3\",\"FiO2\",\"pH\",\"PaCO2\",\"SaO2\",\"AST\",\"BUN\",\"Alkali  nephos\",\"Calcium\",\"Chloride\",\"Creatinine\",\"Bilirubin_direct\",\"Glucose\",\"Lactate\",\"Magnesium\",\"Phosphate\",\"Potassium\",\"Bilirubin_total\",\"TroponinI\",\"Hct\",\"Hgb\",\"PTT\",\"WBC\",\"Fibrinogen\",\"Platelets\"]\n",
    "    print(\"data read\")\n",
    "    print(alldata.isna().sum())\n",
    "    cols = alldata.columns\n",
    "    for rowdata in alldata.itertuples():\n",
    "        if (pdata.empty == True) | (pdata[pdata.PatientID == getattr(rowdata,\"PatientID\")].shape[0]==0):\n",
    "            print(getattr(rowdata,\"PatientID\"))\n",
    "            pdata = alldata[alldata.PatientID == getattr(rowdata,\"PatientID\")]\n",
    "            unit1mean = pdata[\"Unit1\"].mean()\n",
    "            unit2mean = pdata[\"Unit2\"].mean()\n",
    "            if math.isnan(unit1mean):\n",
    "                unit1mean = math.floor(alldata[\"Unit1\"].mean())\n",
    "            else:\n",
    "                unit1mean = math.floor(unit1mean)\n",
    "            if math.isnan(unit2mean):\n",
    "                unit2mean = math.floor(alldata[\"Unit2\"].mean())\n",
    "            else:\n",
    "                unit2mean = math.floor(unit2mean)         \n",
    "            alldata.at[rowdata.Index,\"Unit1\"] = unit1mean\n",
    "            alldata.at[rowdata.Index,\"Unit2\"] = unit2mean\n",
    "            samegender = alldata[(alldata.Gender == getattr(rowdata,\"Gender\")) & (alldata.PatientID != getattr(rowdata,\"PatientID\"))]\n",
    "            sameage = samegender[(samegender.Age == getattr(rowdata,\"Age\"))]\n",
    "            if(sameage.empty == True):\n",
    "                sameage = samegender[(samegender.Age >= getattr(rowdata,\"Age\")-2) & (samegender.Age <= getattr(rowdata,\"Age\")+2)]\n",
    "            if(sameage.empty == True):\n",
    "                sameage = samegender\n",
    "            sameadmit = sameage[(sameage.HospAdmTime == getattr(rowdata,\"HospAdmTime\"))]\n",
    "            if(sameadmit.empty == True):\n",
    "                sameadmit = sameage[(sameage.HospAdmTime >= getattr(rowdata,\"HospAdmTime\") - 3) & (sameage.HospAdmTime <= getattr(rowdata,\"HospAdmTime\") + 3)]\n",
    "            if(sameadmit.empty == True):\n",
    "                sameadmit = sameage\n",
    "            sameicu = sameadmit[(sameadmit.ICULOS == getattr(rowdata,\"ICULOS\"))]\n",
    "            if(sameicu.empty == True):\n",
    "                sameicu = sameadmit[(sameadmit.ICULOS >= getattr(rowdata,\"ICULOS\") - 2) & (sameadmit.ICULOS <= getattr(rowdata,\"ICULOS\") + 2)]\n",
    "            if(sameicu.empty == True):\n",
    "                sameicu = sameadmit[(sameadmit.ICULOS >= getattr(rowdata,\"ICULOS\") - 10) & (sameadmit.ICULOS <= getattr(rowdata,\"ICULOS\") + 10)]\n",
    "            if(sameicu.empty == True):\n",
    "                sameicu = sameadmit\n",
    "            sameunit1 = sameicu[(sameicu.Unit1 == getattr(rowdata,\"Unit1\"))]\n",
    "            if(sameunit1.empty == True):\n",
    "                sameunit1 = sameicu\n",
    "            sameunit2 = sameunit1[(sameunit1.Unit2 == getattr(rowdata,\"Unit2\"))]\n",
    "            if(sameunit2.empty == True):\n",
    "                sameunit2 = sameunit1\n",
    "        for j in attrcolumns:\n",
    "            jval = getattr(rowdata,j)\n",
    "            if(math.isnan(jval)):\n",
    "                meanval=pdata[j].mean()\n",
    "                if(math.isnan(meanval)):\n",
    "                    meanval = sameunit2[j].mean()\n",
    "                    if(math.isnan(meanval)):\n",
    "                        meanval = sameunit1[j].mean()\n",
    "                    if(math.isnan(meanval)):\n",
    "                        meanval = sameicu[j].mean()\n",
    "                    if(math.isnan(meanval)):\n",
    "                        meanval = sameadmit[j].mean()\n",
    "                    if(math.isnan(meanval)):\n",
    "                        meanval = sameage[j].mean()\n",
    "                    if(math.isnan(meanval)):\n",
    "                        meanval = samegender[j].mean()\n",
    "                    if(math.isnan(meanval)):\n",
    "                        meanval = 0  \n",
    "                alldata.at[rowdata.Index,j] = meanval \n",
    "    tdata=alldata\n",
    "    tdata.to_csv(\"/training/output/massaged.psv\", sep='|',index=False)        \n",
    "    return alldata"
   ]
  },
  {
   "cell_type": "code",
   "execution_count": null,
   "metadata": {},
   "outputs": [],
   "source": [
    "def loadDatasetMassaged():\n",
    "    alldata=pd.read_csv(\"/training/output/massaged.psv\",sep=\"|\")\n",
    "    print(\"loaded massaged data\")\n",
    "    return alldata"
   ]
  }
 ],
 "metadata": {
  "kernelspec": {
   "display_name": "Python 3",
   "language": "python",
   "name": "python3"
  },
  "language_info": {
   "codemirror_mode": {
    "name": "ipython",
    "version": 3
   },
   "file_extension": ".py",
   "mimetype": "text/x-python",
   "name": "python",
   "nbconvert_exporter": "python",
   "pygments_lexer": "ipython3",
   "version": "3.7.6-final"
  }
 },
 "nbformat": 4,
 "nbformat_minor": 4
}